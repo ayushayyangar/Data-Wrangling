{
 "cells": [
  {
   "cell_type": "code",
   "execution_count": 1,
   "metadata": {},
   "outputs": [
    {
     "name": "stderr",
     "output_type": "stream",
     "text": [
      "/opt/conda/lib/python3.6/site-packages/statsmodels/compat/pandas.py:56: FutureWarning: The pandas.core.datetools module is deprecated and will be removed in a future version. Please use the pandas.tseries module instead.\n",
      "  from pandas.core import datetools\n"
     ]
    }
   ],
   "source": [
    "import pandas as pd\n",
    "import numpy as np\n",
    "import requests\n",
    "import matplotlib.pyplot as plt\n",
    "import seaborn as sb\n",
    "import os\n",
    "import json\n",
    "import statsmodels.api as sm\n",
    "import tweepy"
   ]
  },
  {
   "cell_type": "markdown",
   "metadata": {},
   "source": [
    "## 1. Gather"
   ]
  },
  {
   "cell_type": "code",
   "execution_count": 2,
   "metadata": {},
   "outputs": [
    {
     "data": {
      "text/html": [
       "<div>\n",
       "<style scoped>\n",
       "    .dataframe tbody tr th:only-of-type {\n",
       "        vertical-align: middle;\n",
       "    }\n",
       "\n",
       "    .dataframe tbody tr th {\n",
       "        vertical-align: top;\n",
       "    }\n",
       "\n",
       "    .dataframe thead th {\n",
       "        text-align: right;\n",
       "    }\n",
       "</style>\n",
       "<table border=\"1\" class=\"dataframe\">\n",
       "  <thead>\n",
       "    <tr style=\"text-align: right;\">\n",
       "      <th></th>\n",
       "      <th>tweet_id</th>\n",
       "      <th>in_reply_to_status_id</th>\n",
       "      <th>in_reply_to_user_id</th>\n",
       "      <th>timestamp</th>\n",
       "      <th>source</th>\n",
       "      <th>text</th>\n",
       "      <th>retweeted_status_id</th>\n",
       "      <th>retweeted_status_user_id</th>\n",
       "      <th>retweeted_status_timestamp</th>\n",
       "      <th>expanded_urls</th>\n",
       "      <th>rating_numerator</th>\n",
       "      <th>rating_denominator</th>\n",
       "      <th>name</th>\n",
       "      <th>doggo</th>\n",
       "      <th>floofer</th>\n",
       "      <th>pupper</th>\n",
       "      <th>puppo</th>\n",
       "    </tr>\n",
       "  </thead>\n",
       "  <tbody>\n",
       "    <tr>\n",
       "      <th>0</th>\n",
       "      <td>892420643555336193</td>\n",
       "      <td>NaN</td>\n",
       "      <td>NaN</td>\n",
       "      <td>2017-08-01 16:23:56 +0000</td>\n",
       "      <td>&lt;a href=\"http://twitter.com/download/iphone\" r...</td>\n",
       "      <td>This is Phineas. He's a mystical boy. Only eve...</td>\n",
       "      <td>NaN</td>\n",
       "      <td>NaN</td>\n",
       "      <td>NaN</td>\n",
       "      <td>https://twitter.com/dog_rates/status/892420643...</td>\n",
       "      <td>13</td>\n",
       "      <td>10</td>\n",
       "      <td>Phineas</td>\n",
       "      <td>None</td>\n",
       "      <td>None</td>\n",
       "      <td>None</td>\n",
       "      <td>None</td>\n",
       "    </tr>\n",
       "    <tr>\n",
       "      <th>1</th>\n",
       "      <td>892177421306343426</td>\n",
       "      <td>NaN</td>\n",
       "      <td>NaN</td>\n",
       "      <td>2017-08-01 00:17:27 +0000</td>\n",
       "      <td>&lt;a href=\"http://twitter.com/download/iphone\" r...</td>\n",
       "      <td>This is Tilly. She's just checking pup on you....</td>\n",
       "      <td>NaN</td>\n",
       "      <td>NaN</td>\n",
       "      <td>NaN</td>\n",
       "      <td>https://twitter.com/dog_rates/status/892177421...</td>\n",
       "      <td>13</td>\n",
       "      <td>10</td>\n",
       "      <td>Tilly</td>\n",
       "      <td>None</td>\n",
       "      <td>None</td>\n",
       "      <td>None</td>\n",
       "      <td>None</td>\n",
       "    </tr>\n",
       "    <tr>\n",
       "      <th>2</th>\n",
       "      <td>891815181378084864</td>\n",
       "      <td>NaN</td>\n",
       "      <td>NaN</td>\n",
       "      <td>2017-07-31 00:18:03 +0000</td>\n",
       "      <td>&lt;a href=\"http://twitter.com/download/iphone\" r...</td>\n",
       "      <td>This is Archie. He is a rare Norwegian Pouncin...</td>\n",
       "      <td>NaN</td>\n",
       "      <td>NaN</td>\n",
       "      <td>NaN</td>\n",
       "      <td>https://twitter.com/dog_rates/status/891815181...</td>\n",
       "      <td>12</td>\n",
       "      <td>10</td>\n",
       "      <td>Archie</td>\n",
       "      <td>None</td>\n",
       "      <td>None</td>\n",
       "      <td>None</td>\n",
       "      <td>None</td>\n",
       "    </tr>\n",
       "    <tr>\n",
       "      <th>3</th>\n",
       "      <td>891689557279858688</td>\n",
       "      <td>NaN</td>\n",
       "      <td>NaN</td>\n",
       "      <td>2017-07-30 15:58:51 +0000</td>\n",
       "      <td>&lt;a href=\"http://twitter.com/download/iphone\" r...</td>\n",
       "      <td>This is Darla. She commenced a snooze mid meal...</td>\n",
       "      <td>NaN</td>\n",
       "      <td>NaN</td>\n",
       "      <td>NaN</td>\n",
       "      <td>https://twitter.com/dog_rates/status/891689557...</td>\n",
       "      <td>13</td>\n",
       "      <td>10</td>\n",
       "      <td>Darla</td>\n",
       "      <td>None</td>\n",
       "      <td>None</td>\n",
       "      <td>None</td>\n",
       "      <td>None</td>\n",
       "    </tr>\n",
       "    <tr>\n",
       "      <th>4</th>\n",
       "      <td>891327558926688256</td>\n",
       "      <td>NaN</td>\n",
       "      <td>NaN</td>\n",
       "      <td>2017-07-29 16:00:24 +0000</td>\n",
       "      <td>&lt;a href=\"http://twitter.com/download/iphone\" r...</td>\n",
       "      <td>This is Franklin. He would like you to stop ca...</td>\n",
       "      <td>NaN</td>\n",
       "      <td>NaN</td>\n",
       "      <td>NaN</td>\n",
       "      <td>https://twitter.com/dog_rates/status/891327558...</td>\n",
       "      <td>12</td>\n",
       "      <td>10</td>\n",
       "      <td>Franklin</td>\n",
       "      <td>None</td>\n",
       "      <td>None</td>\n",
       "      <td>None</td>\n",
       "      <td>None</td>\n",
       "    </tr>\n",
       "  </tbody>\n",
       "</table>\n",
       "</div>"
      ],
      "text/plain": [
       "             tweet_id  in_reply_to_status_id  in_reply_to_user_id  \\\n",
       "0  892420643555336193                    NaN                  NaN   \n",
       "1  892177421306343426                    NaN                  NaN   \n",
       "2  891815181378084864                    NaN                  NaN   \n",
       "3  891689557279858688                    NaN                  NaN   \n",
       "4  891327558926688256                    NaN                  NaN   \n",
       "\n",
       "                   timestamp  \\\n",
       "0  2017-08-01 16:23:56 +0000   \n",
       "1  2017-08-01 00:17:27 +0000   \n",
       "2  2017-07-31 00:18:03 +0000   \n",
       "3  2017-07-30 15:58:51 +0000   \n",
       "4  2017-07-29 16:00:24 +0000   \n",
       "\n",
       "                                              source  \\\n",
       "0  <a href=\"http://twitter.com/download/iphone\" r...   \n",
       "1  <a href=\"http://twitter.com/download/iphone\" r...   \n",
       "2  <a href=\"http://twitter.com/download/iphone\" r...   \n",
       "3  <a href=\"http://twitter.com/download/iphone\" r...   \n",
       "4  <a href=\"http://twitter.com/download/iphone\" r...   \n",
       "\n",
       "                                                text  retweeted_status_id  \\\n",
       "0  This is Phineas. He's a mystical boy. Only eve...                  NaN   \n",
       "1  This is Tilly. She's just checking pup on you....                  NaN   \n",
       "2  This is Archie. He is a rare Norwegian Pouncin...                  NaN   \n",
       "3  This is Darla. She commenced a snooze mid meal...                  NaN   \n",
       "4  This is Franklin. He would like you to stop ca...                  NaN   \n",
       "\n",
       "   retweeted_status_user_id retweeted_status_timestamp  \\\n",
       "0                       NaN                        NaN   \n",
       "1                       NaN                        NaN   \n",
       "2                       NaN                        NaN   \n",
       "3                       NaN                        NaN   \n",
       "4                       NaN                        NaN   \n",
       "\n",
       "                                       expanded_urls  rating_numerator  \\\n",
       "0  https://twitter.com/dog_rates/status/892420643...                13   \n",
       "1  https://twitter.com/dog_rates/status/892177421...                13   \n",
       "2  https://twitter.com/dog_rates/status/891815181...                12   \n",
       "3  https://twitter.com/dog_rates/status/891689557...                13   \n",
       "4  https://twitter.com/dog_rates/status/891327558...                12   \n",
       "\n",
       "   rating_denominator      name doggo floofer pupper puppo  \n",
       "0                  10   Phineas  None    None   None  None  \n",
       "1                  10     Tilly  None    None   None  None  \n",
       "2                  10    Archie  None    None   None  None  \n",
       "3                  10     Darla  None    None   None  None  \n",
       "4                  10  Franklin  None    None   None  None  "
      ]
     },
     "execution_count": 2,
     "metadata": {},
     "output_type": "execute_result"
    }
   ],
   "source": [
    "# Reading the tweets archive from csv file loaded to Jupyter\n",
    "tw_archive_enhance = pd.read_csv('twitter-archive-enhanced.csv')\n",
    "tw_archive_enhance.head()"
   ]
  },
  {
   "cell_type": "code",
   "execution_count": 3,
   "metadata": {},
   "outputs": [],
   "source": [
    "#Creating a folder for storing the image predictions file\n",
    "folder_name = 'twitter_archive'\n",
    "if not os.path.exists(folder_name):\n",
    "    os.makedirs(folder_name)\n",
    "url = 'https://d17h27t6h515a5.cloudfront.net/topher/2017/August/599fd2ad_image-predictions/image-predictions.tsv'\n",
    "response = requests.get(url)"
   ]
  },
  {
   "cell_type": "code",
   "execution_count": 4,
   "metadata": {},
   "outputs": [],
   "source": [
    "#Importing Image Predictions file from Udacity url\n",
    "with open(os.path.join (folder_name, url.split('/')[-1]), mode = 'wb') as file:\n",
    "    file.write(response.content)"
   ]
  },
  {
   "cell_type": "code",
   "execution_count": 5,
   "metadata": {},
   "outputs": [],
   "source": [
    "\n",
    "image_predictions = pd.read_csv('twitter_archive/image-predictions.tsv', sep = '\\t')"
   ]
  },
  {
   "cell_type": "code",
   "execution_count": 6,
   "metadata": {},
   "outputs": [],
   "source": [
    "#Getting Access to the twitter library and twitter API\n",
    "import tweepy\n",
    "\n",
    "consumer_key = ''\n",
    "consumer_secret = ''\n",
    "access_token = ''\n",
    "access_secret = ''\n",
    "\n",
    "auth = tweepy.OAuthHandler(consumer_key, consumer_secret)\n",
    "auth.set_access_token(access_token, access_secret)\n",
    "\n",
    "api = tweepy.API(auth)"
   ]
  },
  {
   "cell_type": "code",
   "execution_count": 7,
   "metadata": {},
   "outputs": [
    {
     "name": "stdout",
     "output_type": "stream",
     "text": [
      "<class 'pandas.core.frame.DataFrame'>\n",
      "RangeIndex: 2075 entries, 0 to 2074\n",
      "Data columns (total 12 columns):\n",
      "tweet_id    2075 non-null int64\n",
      "jpg_url     2075 non-null object\n",
      "img_num     2075 non-null int64\n",
      "p1          2075 non-null object\n",
      "p1_conf     2075 non-null float64\n",
      "p1_dog      2075 non-null bool\n",
      "p2          2075 non-null object\n",
      "p2_conf     2075 non-null float64\n",
      "p2_dog      2075 non-null bool\n",
      "p3          2075 non-null object\n",
      "p3_conf     2075 non-null float64\n",
      "p3_dog      2075 non-null bool\n",
      "dtypes: bool(3), float64(3), int64(2), object(4)\n",
      "memory usage: 152.1+ KB\n"
     ]
    },
    {
     "data": {
      "text/plain": [
       "0    666020888022790149\n",
       "1    666029285002620928\n",
       "2    666033412701032449\n",
       "3    666044226329800704\n",
       "4    666049248165822465\n",
       "Name: tweet_id, dtype: int64"
      ]
     },
     "execution_count": 7,
     "metadata": {},
     "output_type": "execute_result"
    }
   ],
   "source": [
    "image_predictions.info()\n",
    "\n",
    "ids = image_predictions.tweet_id\n",
    "ids.head()"
   ]
  },
  {
   "cell_type": "code",
   "execution_count": 8,
   "metadata": {},
   "outputs": [],
   "source": [
    "folder = 'tweet_text'\n",
    "if not os.path.exists(folder):\n",
    "    os.makedirs(folder)\n",
    "f = open(\"tweet_text/tweet_json.txt\",\"w+\")"
   ]
  },
  {
   "cell_type": "code",
   "execution_count": null,
   "metadata": {},
   "outputs": [],
   "source": [
    "# Tried to write from twitter but this did not work so using the txt file in the \n",
    "tweet_errors = {}\n",
    "for t in ids:\n",
    "    try:\n",
    "       tweet = api.get_status(t, tweet_mode = 'extended', wait_on_rate_limit= True,wait_on_rate_limit_notify = True)\n",
    "       json.dump(tweet, f)\n",
    "       print(tweet.full_text)\n",
    "    except Exception as e:\n",
    "       tweet_errors.append(tw_archive_enhance.tweet_id)"
   ]
  },
  {
   "cell_type": "code",
   "execution_count": 11,
   "metadata": {},
   "outputs": [
    {
     "data": {
      "text/plain": [
       "{'tweet_id': '892420643555336193',\n",
       " 'retweet_count': 8853,\n",
       " 'fav_count': 39467,\n",
       " 'full_text': \"This is Phineas. He's a mystical boy. Only ever appears in the hole of a donut. 13/10 https://t.co/MgUWQ76dJU\"}"
      ]
     },
     "execution_count": 11,
     "metadata": {},
     "output_type": "execute_result"
    }
   ],
   "source": [
    "# Reading the tweet-json file line by line using a loop and then storing in an array\n",
    "dweets = []\n",
    "with open ('tweet-json.txt') as file:\n",
    "    for line in file:\n",
    "        data = json.loads(line)\n",
    "        tweet_id = data['id_str']\n",
    "        retweet_counts = data['retweet_count']\n",
    "        fav_count = data['favorite_count']\n",
    "        full_text = data['full_text']\n",
    "        #Storing in a dictionary\n",
    "        tweet_dic = {'tweet_id': tweet_id,\n",
    "                     'retweet_count':retweet_counts,\n",
    "                     'fav_count':fav_count,\n",
    "                     'full_text':full_text\n",
    "                    }\n",
    "        dweets.append(tweet_dic)\n",
    "dweets[0]"
   ]
  },
  {
   "cell_type": "code",
   "execution_count": 12,
   "metadata": {
    "scrolled": true
   },
   "outputs": [
    {
     "data": {
      "text/plain": [
       "tweet_id         object\n",
       "retweet_count     int64\n",
       "fav_count         int64\n",
       "full_text        object\n",
       "dtype: object"
      ]
     },
     "execution_count": 12,
     "metadata": {},
     "output_type": "execute_result"
    }
   ],
   "source": [
    "#Storing the ids in a pandas data frame\n",
    "tweets_df = pd.DataFrame(dweets, columns =['tweet_id', 'retweet_count','fav_count','full_text'])\n",
    "tweets_df.dtypes"
   ]
  },
  {
   "cell_type": "markdown",
   "metadata": {},
   "source": [
    "## 2. Assessing Data"
   ]
  },
  {
   "cell_type": "code",
   "execution_count": 13,
   "metadata": {},
   "outputs": [
    {
     "data": {
      "text/plain": [
       "tweet_id                        int64\n",
       "in_reply_to_status_id         float64\n",
       "in_reply_to_user_id           float64\n",
       "timestamp                      object\n",
       "source                         object\n",
       "text                           object\n",
       "retweeted_status_id           float64\n",
       "retweeted_status_user_id      float64\n",
       "retweeted_status_timestamp     object\n",
       "expanded_urls                  object\n",
       "rating_numerator                int64\n",
       "rating_denominator              int64\n",
       "name                           object\n",
       "doggo                          object\n",
       "floofer                        object\n",
       "pupper                         object\n",
       "puppo                          object\n",
       "dtype: object"
      ]
     },
     "execution_count": 13,
     "metadata": {},
     "output_type": "execute_result"
    }
   ],
   "source": [
    "#Assessing Data Types to check for quality issues\n",
    "tw_archive_enhance.dtypes"
   ]
  },
  {
   "cell_type": "code",
   "execution_count": 13,
   "metadata": {},
   "outputs": [
    {
     "data": {
      "text/html": [
       "<div>\n",
       "<style scoped>\n",
       "    .dataframe tbody tr th:only-of-type {\n",
       "        vertical-align: middle;\n",
       "    }\n",
       "\n",
       "    .dataframe tbody tr th {\n",
       "        vertical-align: top;\n",
       "    }\n",
       "\n",
       "    .dataframe thead th {\n",
       "        text-align: right;\n",
       "    }\n",
       "</style>\n",
       "<table border=\"1\" class=\"dataframe\">\n",
       "  <thead>\n",
       "    <tr style=\"text-align: right;\">\n",
       "      <th></th>\n",
       "      <th>tweet_id</th>\n",
       "      <th>in_reply_to_status_id</th>\n",
       "      <th>in_reply_to_user_id</th>\n",
       "      <th>timestamp</th>\n",
       "      <th>source</th>\n",
       "      <th>text</th>\n",
       "      <th>retweeted_status_id</th>\n",
       "      <th>retweeted_status_user_id</th>\n",
       "      <th>retweeted_status_timestamp</th>\n",
       "      <th>expanded_urls</th>\n",
       "      <th>rating_numerator</th>\n",
       "      <th>rating_denominator</th>\n",
       "      <th>name</th>\n",
       "      <th>doggo</th>\n",
       "      <th>floofer</th>\n",
       "      <th>pupper</th>\n",
       "      <th>puppo</th>\n",
       "    </tr>\n",
       "  </thead>\n",
       "  <tbody>\n",
       "    <tr>\n",
       "      <th>0</th>\n",
       "      <td>892420643555336193</td>\n",
       "      <td>NaN</td>\n",
       "      <td>NaN</td>\n",
       "      <td>2017-08-01 16:23:56 +0000</td>\n",
       "      <td>&lt;a href=\"http://twitter.com/download/iphone\" r...</td>\n",
       "      <td>This is Phineas. He's a mystical boy. Only eve...</td>\n",
       "      <td>NaN</td>\n",
       "      <td>NaN</td>\n",
       "      <td>NaN</td>\n",
       "      <td>https://twitter.com/dog_rates/status/892420643...</td>\n",
       "      <td>13</td>\n",
       "      <td>10</td>\n",
       "      <td>Phineas</td>\n",
       "      <td>None</td>\n",
       "      <td>None</td>\n",
       "      <td>None</td>\n",
       "      <td>None</td>\n",
       "    </tr>\n",
       "    <tr>\n",
       "      <th>1</th>\n",
       "      <td>892177421306343426</td>\n",
       "      <td>NaN</td>\n",
       "      <td>NaN</td>\n",
       "      <td>2017-08-01 00:17:27 +0000</td>\n",
       "      <td>&lt;a href=\"http://twitter.com/download/iphone\" r...</td>\n",
       "      <td>This is Tilly. She's just checking pup on you....</td>\n",
       "      <td>NaN</td>\n",
       "      <td>NaN</td>\n",
       "      <td>NaN</td>\n",
       "      <td>https://twitter.com/dog_rates/status/892177421...</td>\n",
       "      <td>13</td>\n",
       "      <td>10</td>\n",
       "      <td>Tilly</td>\n",
       "      <td>None</td>\n",
       "      <td>None</td>\n",
       "      <td>None</td>\n",
       "      <td>None</td>\n",
       "    </tr>\n",
       "    <tr>\n",
       "      <th>2</th>\n",
       "      <td>891815181378084864</td>\n",
       "      <td>NaN</td>\n",
       "      <td>NaN</td>\n",
       "      <td>2017-07-31 00:18:03 +0000</td>\n",
       "      <td>&lt;a href=\"http://twitter.com/download/iphone\" r...</td>\n",
       "      <td>This is Archie. He is a rare Norwegian Pouncin...</td>\n",
       "      <td>NaN</td>\n",
       "      <td>NaN</td>\n",
       "      <td>NaN</td>\n",
       "      <td>https://twitter.com/dog_rates/status/891815181...</td>\n",
       "      <td>12</td>\n",
       "      <td>10</td>\n",
       "      <td>Archie</td>\n",
       "      <td>None</td>\n",
       "      <td>None</td>\n",
       "      <td>None</td>\n",
       "      <td>None</td>\n",
       "    </tr>\n",
       "    <tr>\n",
       "      <th>3</th>\n",
       "      <td>891689557279858688</td>\n",
       "      <td>NaN</td>\n",
       "      <td>NaN</td>\n",
       "      <td>2017-07-30 15:58:51 +0000</td>\n",
       "      <td>&lt;a href=\"http://twitter.com/download/iphone\" r...</td>\n",
       "      <td>This is Darla. She commenced a snooze mid meal...</td>\n",
       "      <td>NaN</td>\n",
       "      <td>NaN</td>\n",
       "      <td>NaN</td>\n",
       "      <td>https://twitter.com/dog_rates/status/891689557...</td>\n",
       "      <td>13</td>\n",
       "      <td>10</td>\n",
       "      <td>Darla</td>\n",
       "      <td>None</td>\n",
       "      <td>None</td>\n",
       "      <td>None</td>\n",
       "      <td>None</td>\n",
       "    </tr>\n",
       "    <tr>\n",
       "      <th>4</th>\n",
       "      <td>891327558926688256</td>\n",
       "      <td>NaN</td>\n",
       "      <td>NaN</td>\n",
       "      <td>2017-07-29 16:00:24 +0000</td>\n",
       "      <td>&lt;a href=\"http://twitter.com/download/iphone\" r...</td>\n",
       "      <td>This is Franklin. He would like you to stop ca...</td>\n",
       "      <td>NaN</td>\n",
       "      <td>NaN</td>\n",
       "      <td>NaN</td>\n",
       "      <td>https://twitter.com/dog_rates/status/891327558...</td>\n",
       "      <td>12</td>\n",
       "      <td>10</td>\n",
       "      <td>Franklin</td>\n",
       "      <td>None</td>\n",
       "      <td>None</td>\n",
       "      <td>None</td>\n",
       "      <td>None</td>\n",
       "    </tr>\n",
       "  </tbody>\n",
       "</table>\n",
       "</div>"
      ],
      "text/plain": [
       "             tweet_id  in_reply_to_status_id  in_reply_to_user_id  \\\n",
       "0  892420643555336193                    NaN                  NaN   \n",
       "1  892177421306343426                    NaN                  NaN   \n",
       "2  891815181378084864                    NaN                  NaN   \n",
       "3  891689557279858688                    NaN                  NaN   \n",
       "4  891327558926688256                    NaN                  NaN   \n",
       "\n",
       "                   timestamp  \\\n",
       "0  2017-08-01 16:23:56 +0000   \n",
       "1  2017-08-01 00:17:27 +0000   \n",
       "2  2017-07-31 00:18:03 +0000   \n",
       "3  2017-07-30 15:58:51 +0000   \n",
       "4  2017-07-29 16:00:24 +0000   \n",
       "\n",
       "                                              source  \\\n",
       "0  <a href=\"http://twitter.com/download/iphone\" r...   \n",
       "1  <a href=\"http://twitter.com/download/iphone\" r...   \n",
       "2  <a href=\"http://twitter.com/download/iphone\" r...   \n",
       "3  <a href=\"http://twitter.com/download/iphone\" r...   \n",
       "4  <a href=\"http://twitter.com/download/iphone\" r...   \n",
       "\n",
       "                                                text  retweeted_status_id  \\\n",
       "0  This is Phineas. He's a mystical boy. Only eve...                  NaN   \n",
       "1  This is Tilly. She's just checking pup on you....                  NaN   \n",
       "2  This is Archie. He is a rare Norwegian Pouncin...                  NaN   \n",
       "3  This is Darla. She commenced a snooze mid meal...                  NaN   \n",
       "4  This is Franklin. He would like you to stop ca...                  NaN   \n",
       "\n",
       "   retweeted_status_user_id retweeted_status_timestamp  \\\n",
       "0                       NaN                        NaN   \n",
       "1                       NaN                        NaN   \n",
       "2                       NaN                        NaN   \n",
       "3                       NaN                        NaN   \n",
       "4                       NaN                        NaN   \n",
       "\n",
       "                                       expanded_urls  rating_numerator  \\\n",
       "0  https://twitter.com/dog_rates/status/892420643...                13   \n",
       "1  https://twitter.com/dog_rates/status/892177421...                13   \n",
       "2  https://twitter.com/dog_rates/status/891815181...                12   \n",
       "3  https://twitter.com/dog_rates/status/891689557...                13   \n",
       "4  https://twitter.com/dog_rates/status/891327558...                12   \n",
       "\n",
       "   rating_denominator      name doggo floofer pupper puppo  \n",
       "0                  10   Phineas  None    None   None  None  \n",
       "1                  10     Tilly  None    None   None  None  \n",
       "2                  10    Archie  None    None   None  None  \n",
       "3                  10     Darla  None    None   None  None  \n",
       "4                  10  Franklin  None    None   None  None  "
      ]
     },
     "execution_count": 13,
     "metadata": {},
     "output_type": "execute_result"
    }
   ],
   "source": [
    "tw_archive_enhance.head()"
   ]
  },
  {
   "cell_type": "code",
   "execution_count": 14,
   "metadata": {},
   "outputs": [
    {
     "name": "stdout",
     "output_type": "stream",
     "text": [
      "<class 'pandas.core.frame.DataFrame'>\n",
      "RangeIndex: 2075 entries, 0 to 2074\n",
      "Data columns (total 12 columns):\n",
      "tweet_id    2075 non-null int64\n",
      "jpg_url     2075 non-null object\n",
      "img_num     2075 non-null int64\n",
      "p1          2075 non-null object\n",
      "p1_conf     2075 non-null float64\n",
      "p1_dog      2075 non-null bool\n",
      "p2          2075 non-null object\n",
      "p2_conf     2075 non-null float64\n",
      "p2_dog      2075 non-null bool\n",
      "p3          2075 non-null object\n",
      "p3_conf     2075 non-null float64\n",
      "p3_dog      2075 non-null bool\n",
      "dtypes: bool(3), float64(3), int64(2), object(4)\n",
      "memory usage: 152.1+ KB\n"
     ]
    },
    {
     "data": {
      "text/plain": [
       "66"
      ]
     },
     "execution_count": 14,
     "metadata": {},
     "output_type": "execute_result"
    }
   ],
   "source": [
    "image_predictions.info()\n",
    "image_predictions.jpg_url.duplicated().sum()"
   ]
  },
  {
   "cell_type": "code",
   "execution_count": 15,
   "metadata": {},
   "outputs": [
    {
     "name": "stdout",
     "output_type": "stream",
     "text": [
      "<class 'pandas.core.frame.DataFrame'>\n",
      "RangeIndex: 2354 entries, 0 to 2353\n",
      "Data columns (total 4 columns):\n",
      "tweet_id         2354 non-null object\n",
      "retweet_count    2354 non-null int64\n",
      "fav_count        2354 non-null int64\n",
      "full_text        2354 non-null object\n",
      "dtypes: int64(2), object(2)\n",
      "memory usage: 73.6+ KB\n"
     ]
    }
   ],
   "source": [
    "tweets_df.info()"
   ]
  },
  {
   "cell_type": "code",
   "execution_count": 15,
   "metadata": {},
   "outputs": [
    {
     "data": {
      "text/plain": [
       "'<a href=\"http://twitter.com/download/iphone\" rel=\"nofollow\">Twitter for iPhone</a>'"
      ]
     },
     "execution_count": 15,
     "metadata": {},
     "output_type": "execute_result"
    }
   ],
   "source": [
    "#Checking source column to understand the source of the tweets\n",
    "tw_archive_enhance.source[1000]"
   ]
  },
  {
   "cell_type": "code",
   "execution_count": 16,
   "metadata": {},
   "outputs": [
    {
     "name": "stdout",
     "output_type": "stream",
     "text": [
      "<class 'pandas.core.frame.DataFrame'>\n",
      "RangeIndex: 2356 entries, 0 to 2355\n",
      "Data columns (total 17 columns):\n",
      "tweet_id                      2356 non-null int64\n",
      "in_reply_to_status_id         78 non-null float64\n",
      "in_reply_to_user_id           78 non-null float64\n",
      "timestamp                     2356 non-null object\n",
      "source                        2356 non-null object\n",
      "text                          2356 non-null object\n",
      "retweeted_status_id           181 non-null float64\n",
      "retweeted_status_user_id      181 non-null float64\n",
      "retweeted_status_timestamp    181 non-null object\n",
      "expanded_urls                 2297 non-null object\n",
      "rating_numerator              2356 non-null int64\n",
      "rating_denominator            2356 non-null int64\n",
      "name                          2356 non-null object\n",
      "doggo                         2356 non-null object\n",
      "floofer                       2356 non-null object\n",
      "pupper                        2356 non-null object\n",
      "puppo                         2356 non-null object\n",
      "dtypes: float64(4), int64(3), object(10)\n",
      "memory usage: 313.0+ KB\n"
     ]
    },
    {
     "data": {
      "text/plain": [
       "0"
      ]
     },
     "execution_count": 16,
     "metadata": {},
     "output_type": "execute_result"
    }
   ],
   "source": [
    "tw_archive_enhance.info()\n",
    "tw_archive_enhance.name.value_counts()\n",
    "tw_archive_enhance.timestamp.duplicated().sum()"
   ]
  },
  {
   "cell_type": "code",
   "execution_count": 17,
   "metadata": {},
   "outputs": [
    {
     "name": "stdout",
     "output_type": "stream",
     "text": [
      "<class 'pandas.core.frame.DataFrame'>\n",
      "RangeIndex: 2075 entries, 0 to 2074\n",
      "Data columns (total 12 columns):\n",
      "tweet_id    2075 non-null int64\n",
      "jpg_url     2075 non-null object\n",
      "img_num     2075 non-null int64\n",
      "p1          2075 non-null object\n",
      "p1_conf     2075 non-null float64\n",
      "p1_dog      2075 non-null bool\n",
      "p2          2075 non-null object\n",
      "p2_conf     2075 non-null float64\n",
      "p2_dog      2075 non-null bool\n",
      "p3          2075 non-null object\n",
      "p3_conf     2075 non-null float64\n",
      "p3_dog      2075 non-null bool\n",
      "dtypes: bool(3), float64(3), int64(2), object(4)\n",
      "memory usage: 152.1+ KB\n"
     ]
    }
   ],
   "source": [
    "image_predictions.info()"
   ]
  },
  {
   "cell_type": "markdown",
   "metadata": {},
   "source": [
    "### Quality Issues\n",
    "1. Tweet_id in the df dataframe is an object and should be int\n",
    "2. Count is different in the three data frames\n",
    "3. Archive spreadsheet the timestamp is not in datetime format\n",
    "4. Remove all records with retweet statuses set to tweet_id as they are retweets\n",
    "5. Remove columns with low count in archive file\n",
    "6. Many issues in denominator, especially fixing value with 2,7,20 which are all invalid in the predictions file\n",
    "7. 66 duplicated urls in the image predictions csv -- to be performed first\n",
    "8. 137 duplicated extended urls in the twitter archive file -- to be performed first\n",
    "9. Separate the source column in archive file to represent the actual source form the entire url string"
   ]
  },
  {
   "cell_type": "markdown",
   "metadata": {},
   "source": [
    "### Tidiness Issues\n",
    "\n",
    "1. Image Predictions file can be combined with the to include the retweet_counts and favorite_counts to have all the data for analysis in one file\n",
    "2. Combine ratings into one ratings column instead of numerator and denominator"
   ]
  },
  {
   "cell_type": "markdown",
   "metadata": {},
   "source": [
    "## 3. Clean "
   ]
  },
  {
   "cell_type": "markdown",
   "metadata": {},
   "source": [
    "Make Copies of the data to retain original dataset in case of issues"
   ]
  },
  {
   "cell_type": "code",
   "execution_count": 15,
   "metadata": {},
   "outputs": [],
   "source": [
    "#Make copies of all 3 spreadsheets\n",
    "\n",
    "img_pred = image_predictions.copy()\n",
    "tw_arch =  tw_archive_enhance.copy()\n",
    "twdf_clean = tweets_df.copy()"
   ]
  },
  {
   "cell_type": "markdown",
   "metadata": {},
   "source": [
    "#### Define\n",
    "Update tw_arch to include only dedupliated url values by using the deduplicated function and the not symbol"
   ]
  },
  {
   "cell_type": "markdown",
   "metadata": {},
   "source": [
    "#### Code"
   ]
  },
  {
   "cell_type": "code",
   "execution_count": 16,
   "metadata": {},
   "outputs": [],
   "source": [
    "#Remove duplicate urls as the images of dogs are duplicated\n",
    "tw_arch = tw_arch[~(tw_arch.expanded_urls.duplicated())]"
   ]
  },
  {
   "cell_type": "markdown",
   "metadata": {},
   "source": [
    "#### Test"
   ]
  },
  {
   "cell_type": "code",
   "execution_count": 17,
   "metadata": {},
   "outputs": [
    {
     "name": "stdout",
     "output_type": "stream",
     "text": [
      "<class 'pandas.core.frame.DataFrame'>\n",
      "Int64Index: 2219 entries, 0 to 2355\n",
      "Data columns (total 17 columns):\n",
      "tweet_id                      2219 non-null int64\n",
      "in_reply_to_status_id         24 non-null float64\n",
      "in_reply_to_user_id           24 non-null float64\n",
      "timestamp                     2219 non-null object\n",
      "source                        2219 non-null object\n",
      "text                          2219 non-null object\n",
      "retweeted_status_id           180 non-null float64\n",
      "retweeted_status_user_id      180 non-null float64\n",
      "retweeted_status_timestamp    180 non-null object\n",
      "expanded_urls                 2218 non-null object\n",
      "rating_numerator              2219 non-null int64\n",
      "rating_denominator            2219 non-null int64\n",
      "name                          2219 non-null object\n",
      "doggo                         2219 non-null object\n",
      "floofer                       2219 non-null object\n",
      "pupper                        2219 non-null object\n",
      "puppo                         2219 non-null object\n",
      "dtypes: float64(4), int64(3), object(10)\n",
      "memory usage: 312.0+ KB\n"
     ]
    }
   ],
   "source": [
    "tw_arch.info()"
   ]
  },
  {
   "cell_type": "markdown",
   "metadata": {},
   "source": [
    "#### Define\n",
    "\n",
    "Remove the in reply to status ids using drop function\n"
   ]
  },
  {
   "cell_type": "markdown",
   "metadata": {},
   "source": [
    "#### Code"
   ]
  },
  {
   "cell_type": "code",
   "execution_count": 19,
   "metadata": {},
   "outputs": [],
   "source": [
    "#Remove in reply to status_id and in reply to user id as information counts are low\n",
    "# Clean\n",
    "tw_arch = tw_arch.drop('in_reply_to_status_id', axis = 1)\n",
    "tw_arch = tw_arch.drop('in_reply_to_user_id', axis = 1)"
   ]
  },
  {
   "cell_type": "markdown",
   "metadata": {},
   "source": [
    "#### Test"
   ]
  },
  {
   "cell_type": "code",
   "execution_count": 20,
   "metadata": {},
   "outputs": [
    {
     "name": "stdout",
     "output_type": "stream",
     "text": [
      "<class 'pandas.core.frame.DataFrame'>\n",
      "Int64Index: 2219 entries, 0 to 2355\n",
      "Data columns (total 15 columns):\n",
      "tweet_id                      2219 non-null int64\n",
      "timestamp                     2219 non-null object\n",
      "source                        2219 non-null object\n",
      "text                          2219 non-null object\n",
      "retweeted_status_id           180 non-null float64\n",
      "retweeted_status_user_id      180 non-null float64\n",
      "retweeted_status_timestamp    180 non-null object\n",
      "expanded_urls                 2218 non-null object\n",
      "rating_numerator              2219 non-null int64\n",
      "rating_denominator            2219 non-null int64\n",
      "name                          2219 non-null object\n",
      "doggo                         2219 non-null object\n",
      "floofer                       2219 non-null object\n",
      "pupper                        2219 non-null object\n",
      "puppo                         2219 non-null object\n",
      "dtypes: float64(2), int64(3), object(10)\n",
      "memory usage: 277.4+ KB\n"
     ]
    }
   ],
   "source": [
    "tw_arch.info()"
   ]
  },
  {
   "cell_type": "markdown",
   "metadata": {},
   "source": [
    "#### Define\n",
    "\n",
    "1. Remove retweeted values by using the isnull function and ensuring only retweeted status null values are in the final data\n",
    "2. Drop the 3 retweeted status rows as they are no essential to any analysis"
   ]
  },
  {
   "cell_type": "markdown",
   "metadata": {},
   "source": [
    "#### Code"
   ]
  },
  {
   "cell_type": "code",
   "execution_count": 21,
   "metadata": {},
   "outputs": [],
   "source": [
    "#Removing retweets where any retweeted id is not null and drop these columns as \n",
    "#they are null\n",
    "\n",
    "#Clean\n",
    "tw_arch = tw_arch[tw_arch.retweeted_status_id.isnull()]\n",
    "tw_arch.drop(['retweeted_status_id','retweeted_status_user_id','retweeted_status_timestamp'], inplace= True, axis =1)"
   ]
  },
  {
   "cell_type": "markdown",
   "metadata": {},
   "source": [
    "#### Test"
   ]
  },
  {
   "cell_type": "code",
   "execution_count": 22,
   "metadata": {},
   "outputs": [
    {
     "name": "stdout",
     "output_type": "stream",
     "text": [
      "<class 'pandas.core.frame.DataFrame'>\n",
      "Int64Index: 2039 entries, 0 to 2355\n",
      "Data columns (total 12 columns):\n",
      "tweet_id              2039 non-null int64\n",
      "timestamp             2039 non-null object\n",
      "source                2039 non-null object\n",
      "text                  2039 non-null object\n",
      "expanded_urls         2038 non-null object\n",
      "rating_numerator      2039 non-null int64\n",
      "rating_denominator    2039 non-null int64\n",
      "name                  2039 non-null object\n",
      "doggo                 2039 non-null object\n",
      "floofer               2039 non-null object\n",
      "pupper                2039 non-null object\n",
      "puppo                 2039 non-null object\n",
      "dtypes: int64(3), object(9)\n",
      "memory usage: 207.1+ KB\n"
     ]
    }
   ],
   "source": [
    "tw_arch.info()"
   ]
  },
  {
   "cell_type": "markdown",
   "metadata": {},
   "source": [
    "#### Define\n",
    "Change timestamp using to_datettime function to a datetime datatype"
   ]
  },
  {
   "cell_type": "markdown",
   "metadata": {},
   "source": [
    "#### Code"
   ]
  },
  {
   "cell_type": "code",
   "execution_count": 23,
   "metadata": {},
   "outputs": [
    {
     "data": {
      "text/plain": [
       "tweet_id                       int64\n",
       "timestamp             datetime64[ns]\n",
       "source                        object\n",
       "text                          object\n",
       "expanded_urls                 object\n",
       "rating_numerator               int64\n",
       "rating_denominator             int64\n",
       "name                          object\n",
       "doggo                         object\n",
       "floofer                       object\n",
       "pupper                        object\n",
       "puppo                         object\n",
       "dtype: object"
      ]
     },
     "execution_count": 23,
     "metadata": {},
     "output_type": "execute_result"
    }
   ],
   "source": [
    "# Timestamp should be in date time format using to_datetime function\n",
    "\n",
    "tw_arch.timestamp = pd.to_datetime(tw_arch.timestamp)\n"
   ]
  },
  {
   "cell_type": "markdown",
   "metadata": {},
   "source": [
    "#### Test"
   ]
  },
  {
   "cell_type": "code",
   "execution_count": 24,
   "metadata": {},
   "outputs": [
    {
     "data": {
      "text/plain": [
       "tweet_id               int64\n",
       "timestamp             object\n",
       "source                object\n",
       "text                  object\n",
       "expanded_urls         object\n",
       "rating_numerator       int64\n",
       "rating_denominator     int64\n",
       "name                  object\n",
       "doggo                 object\n",
       "floofer               object\n",
       "pupper                object\n",
       "puppo                 object\n",
       "dtype: object"
      ]
     },
     "execution_count": 24,
     "metadata": {},
     "output_type": "execute_result"
    }
   ],
   "source": [
    "tw_arch.dtypes"
   ]
  },
  {
   "cell_type": "markdown",
   "metadata": {},
   "source": [
    "#### Define\n",
    "\n",
    "Change tweet_id from object to int using astype function"
   ]
  },
  {
   "cell_type": "markdown",
   "metadata": {},
   "source": [
    "#### Code"
   ]
  },
  {
   "cell_type": "code",
   "execution_count": 25,
   "metadata": {},
   "outputs": [],
   "source": [
    "# Change tweet_id in twdf_clean to int from object type using astype\n",
    "twdf_clean.tweet_id = twdf_clean.tweet_id.astype(int)"
   ]
  },
  {
   "cell_type": "markdown",
   "metadata": {},
   "source": [
    "#### Test"
   ]
  },
  {
   "cell_type": "code",
   "execution_count": 26,
   "metadata": {},
   "outputs": [
    {
     "name": "stdout",
     "output_type": "stream",
     "text": [
      "<class 'pandas.core.frame.DataFrame'>\n",
      "RangeIndex: 2354 entries, 0 to 2353\n",
      "Data columns (total 4 columns):\n",
      "tweet_id         2354 non-null int64\n",
      "retweet_count    2354 non-null int64\n",
      "fav_count        2354 non-null int64\n",
      "full_text        2354 non-null object\n",
      "dtypes: int64(3), object(1)\n",
      "memory usage: 73.6+ KB\n"
     ]
    }
   ],
   "source": [
    "twdf_clean.info()"
   ]
  },
  {
   "cell_type": "markdown",
   "metadata": {},
   "source": [
    "#### Define\n",
    "\n",
    "1. Use string rstrip function to remove the end <\\a>\n",
    "2. Use string extract and  regex to remove the source towards the end of the file and store it in a separate file for the 3 worded source.\n",
    "3. Use string extract and  regex to remove the source towards the end of the file and store it in a separate file for the 2 worded source for verification.\n",
    "4. Remove the original source column after storing all source values in one column."
   ]
  },
  {
   "cell_type": "markdown",
   "metadata": {},
   "source": [
    "#### Code"
   ]
  },
  {
   "cell_type": "code",
   "execution_count": 29,
   "metadata": {},
   "outputs": [
    {
     "data": {
      "text/plain": [
       "Twitter for iPhone    1909\n",
       "Twitter Web Client      30\n",
       "Name: source_final, dtype: int64"
      ]
     },
     "execution_count": 29,
     "metadata": {},
     "output_type": "execute_result"
    }
   ],
   "source": [
    "#Source id to narrow down the source \n",
    "\n",
    "#Using string extract and Regex to separate from the source column by first stripping the end </a>\n",
    "#Step 2 is to use regular expressions to find the Source mentioned at the end of the String for 3 worded source\n",
    "\n",
    "tw_arch['source']= tw_arch.source.str.rstrip('</a>')\n",
    "tw_arch['source_final'] = tw_arch.source.str.extract('\\>([A-Z-a-z]+\\s[a-zA-Z]+\\s[a-zA-Z]+)',expand = True)\n",
    "tw_arch['source_final2'] = tw_arch.source.str.extract('\\>(TweetDeck)', expand = True)\n",
    "tw_arch.source_final.value_counts()"
   ]
  },
  {
   "cell_type": "markdown",
   "metadata": {},
   "source": [
    "#### Code 2"
   ]
  },
  {
   "cell_type": "code",
   "execution_count": 30,
   "metadata": {},
   "outputs": [],
   "source": [
    "# Repeating the process for the 2 worded strings\n",
    "#tw_arch['source_final2'] = tw_arch.source.str.extract('\\>(TweetDeck)', expand = True)\n",
    "\n",
    "#Assimilating the information in a single column source_final by checking if all NaN values in source final can be replaced by TweetDeck source\n",
    "tw_arch[tw_arch['source_final2']=='TweetDeck']\n",
    "\n",
    "tw_arch['source_final'].fillna('TweetDeck', inplace = True)\n",
    "\n",
    "#Drop Source_final2 and source tables as they are not Required\n",
    "tw_arch.drop('source_final2',axis = 1, inplace = True)\n",
    "tw_arch.drop('source',axis = 1, inplace = True)"
   ]
  },
  {
   "cell_type": "markdown",
   "metadata": {},
   "source": [
    "#### Test"
   ]
  },
  {
   "cell_type": "code",
   "execution_count": 31,
   "metadata": {},
   "outputs": [
    {
     "data": {
      "text/plain": [
       "Twitter for iPhone    1909\n",
       "TweetDeck              100\n",
       "Twitter Web Client      30\n",
       "Name: source_final, dtype: int64"
      ]
     },
     "execution_count": 31,
     "metadata": {},
     "output_type": "execute_result"
    }
   ],
   "source": [
    "tw_arch.source_final.value_counts()"
   ]
  },
  {
   "cell_type": "markdown",
   "metadata": {},
   "source": [
    "#### Define\n",
    "Remove ids from image predictions file which do not exist in archive file to maintain uniformity"
   ]
  },
  {
   "cell_type": "markdown",
   "metadata": {},
   "source": [
    "#### Code"
   ]
  },
  {
   "cell_type": "code",
   "execution_count": 34,
   "metadata": {},
   "outputs": [],
   "source": [
    "\n",
    "img_pred = img_pred[img_pred['tweet_id'].isin(tw_arch.tweet_id)]"
   ]
  },
  {
   "cell_type": "markdown",
   "metadata": {},
   "source": [
    "#### Test"
   ]
  },
  {
   "cell_type": "code",
   "execution_count": 35,
   "metadata": {},
   "outputs": [
    {
     "name": "stdout",
     "output_type": "stream",
     "text": [
      "<class 'pandas.core.frame.DataFrame'>\n",
      "Int64Index: 1916 entries, 0 to 2074\n",
      "Data columns (total 12 columns):\n",
      "tweet_id    1916 non-null int64\n",
      "jpg_url     1916 non-null object\n",
      "img_num     1916 non-null int64\n",
      "p1          1916 non-null object\n",
      "p1_conf     1916 non-null float64\n",
      "p1_dog      1916 non-null bool\n",
      "p2          1916 non-null object\n",
      "p2_conf     1916 non-null float64\n",
      "p2_dog      1916 non-null bool\n",
      "p3          1916 non-null object\n",
      "p3_conf     1916 non-null float64\n",
      "p3_dog      1916 non-null bool\n",
      "dtypes: bool(3), float64(3), int64(2), object(4)\n",
      "memory usage: 155.3+ KB\n"
     ]
    }
   ],
   "source": [
    "img_pred.info()"
   ]
  },
  {
   "cell_type": "markdown",
   "metadata": {},
   "source": [
    "#### Define\n",
    "Remove ids from archive file which do not exist in image predictions file to maintain uniformity"
   ]
  },
  {
   "cell_type": "markdown",
   "metadata": {},
   "source": [
    "#### Code"
   ]
  },
  {
   "cell_type": "code",
   "execution_count": 26,
   "metadata": {},
   "outputs": [
    {
     "name": "stdout",
     "output_type": "stream",
     "text": [
      "<class 'pandas.core.frame.DataFrame'>\n",
      "Int64Index: 1916 entries, 0 to 2355\n",
      "Data columns (total 12 columns):\n",
      "tweet_id              1916 non-null int64\n",
      "timestamp             1916 non-null datetime64[ns]\n",
      "source                1916 non-null object\n",
      "text                  1916 non-null object\n",
      "expanded_urls         1916 non-null object\n",
      "rating_numerator      1916 non-null int64\n",
      "rating_denominator    1916 non-null int64\n",
      "name                  1916 non-null object\n",
      "doggo                 1916 non-null object\n",
      "floofer               1916 non-null object\n",
      "pupper                1916 non-null object\n",
      "puppo                 1916 non-null object\n",
      "dtypes: datetime64[ns](1), int64(3), object(8)\n",
      "memory usage: 194.6+ KB\n"
     ]
    }
   ],
   "source": [
    "#Matching counts with Tw archive as only 1916 have image predictions\n",
    "#Clean\n",
    "tw_arch = tw_arch[tw_arch['tweet_id'].isin(img_pred.tweet_id)]\n",
    "\n",
    "#Test\n",
    "tw_arch.info()"
   ]
  },
  {
   "cell_type": "markdown",
   "metadata": {},
   "source": [
    "#### Define\n",
    "1. find median of the ratings values and store in a couple variables for numerator and denominator\n",
    "2. Change the values using at function individually for numerator and denominator"
   ]
  },
  {
   "cell_type": "markdown",
   "metadata": {},
   "source": [
    "#### Code"
   ]
  },
  {
   "cell_type": "code",
   "execution_count": 36,
   "metadata": {
    "scrolled": true
   },
   "outputs": [],
   "source": [
    "# Fixing numerator and ratingdenominators \n",
    "#2 where 1/2 is used to describe the legs, 7 where 24/7 was mentioned for all day\n",
    "#4/20 was mentioned but the actual rating should not be \n",
    "\n",
    "#Store the intial values in a data frame for future testing\n",
    "\n",
    "tw_den = tw_arch[tw_arch.rating_denominator.isin([2,20,7])]\n",
    "\n",
    "\n",
    "#Replace the numerator and denominator values with the median values as there are more errors but tough to spot all\n",
    "num_sub = np.round(tw_arch.rating_numerator.median(),0)\n",
    "den_sub = np.round(tw_arch.rating_denominator.median(),0)\n",
    "#code: Replacing the tweet_ids with the median values using row number from tw_den\n",
    "tw_arch.at[516,'rating_numerator'] = num_sub\n",
    "tw_arch.at[516,'rating_denominator'] = den_sub\n",
    "#Code changing below value to rating mentioned in the full text of tweet using row number from tw_den\n",
    "tw_arch.at[1165,'rating_numerator'] = 13.0\n",
    "tw_arch.at[1165,'rating_denominator'] = 10.0\n",
    "\n",
    "tw_arch.at[2335,'rating_numerator'] = 9.0\n",
    "tw_arch.at[2335, 'rating_denominator'] = 10.0"
   ]
  },
  {
   "cell_type": "markdown",
   "metadata": {},
   "source": [
    "#### Test"
   ]
  },
  {
   "cell_type": "code",
   "execution_count": 37,
   "metadata": {},
   "outputs": [
    {
     "name": "stdout",
     "output_type": "stream",
     "text": [
      "9 10\n",
      "13 10\n",
      "11 10\n"
     ]
    }
   ],
   "source": [
    "#Test\n",
    "#Print the values of the changed numerator and denominator rows to verify\n",
    "#tw_arch[tw_arch.tweet_id.isin(tw_den.tweet_id)]\n",
    "print(tw_arch.at[2335,'rating_numerator'], tw_arch.at[2335,'rating_denominator'])\n",
    "print(tw_arch.at[1165,'rating_numerator'], tw_arch.at[1165,'rating_denominator'])\n",
    "print(tw_arch.at[516,'rating_numerator'], tw_arch.at[516,'rating_denominator'])\n",
    "\n",
    "#AND Below result is null or no result as no such values exist\n",
    "\n",
    "tw_den = tw_arch[tw_arch.rating_denominator.isin([2,20,7])]"
   ]
  },
  {
   "cell_type": "markdown",
   "metadata": {},
   "source": [
    "## Tidiness Cleaning"
   ]
  },
  {
   "cell_type": "markdown",
   "metadata": {},
   "source": [
    "#### Define\n",
    "\n",
    "1. Use the merge function to join with the archive file on tweet_id so that all variables can belong in the same file"
   ]
  },
  {
   "cell_type": "markdown",
   "metadata": {},
   "source": [
    "#### Code"
   ]
  },
  {
   "cell_type": "code",
   "execution_count": 39,
   "metadata": {},
   "outputs": [],
   "source": [
    "#Modify\n",
    "tw_arch = tw_arch.merge(twdf_clean, on = 'tweet_id', how = 'left')\n"
   ]
  },
  {
   "cell_type": "markdown",
   "metadata": {},
   "source": [
    "#### Test"
   ]
  },
  {
   "cell_type": "code",
   "execution_count": 40,
   "metadata": {},
   "outputs": [
    {
     "name": "stdout",
     "output_type": "stream",
     "text": [
      "<class 'pandas.core.frame.DataFrame'>\n",
      "Int64Index: 2039 entries, 0 to 2038\n",
      "Data columns (total 15 columns):\n",
      "tweet_id              2039 non-null int64\n",
      "timestamp             2039 non-null object\n",
      "text                  2039 non-null object\n",
      "expanded_urls         2038 non-null object\n",
      "rating_numerator      2039 non-null int64\n",
      "rating_denominator    2039 non-null int64\n",
      "name                  2039 non-null object\n",
      "doggo                 2039 non-null object\n",
      "floofer               2039 non-null object\n",
      "pupper                2039 non-null object\n",
      "puppo                 2039 non-null object\n",
      "source_final          2039 non-null object\n",
      "retweet_count         2039 non-null int64\n",
      "fav_count             2039 non-null int64\n",
      "full_text             2039 non-null object\n",
      "dtypes: int64(5), object(10)\n",
      "memory usage: 254.9+ KB\n"
     ]
    }
   ],
   "source": [
    "tw_arch.info()"
   ]
  },
  {
   "cell_type": "markdown",
   "metadata": {},
   "source": [
    "#### Define\n",
    "1. Combine numerator and denominator by dividing the numerator by denominator as each cannot be used indepedently for any anlaysis\n",
    "2. Drop the numerator and denominator columns"
   ]
  },
  {
   "cell_type": "markdown",
   "metadata": {},
   "source": [
    "#### Code"
   ]
  },
  {
   "cell_type": "code",
   "execution_count": 41,
   "metadata": {},
   "outputs": [],
   "source": [
    "#Rating numerator and denominator not needed for analysis after cleaning (if thoroughly cleaned)\n",
    "#Creating new column for ratings so that numerator and denominator can be remove\n",
    "\n",
    "tw_arch['ratings'] = tw_arch['rating_numerator']/tw_arch['rating_denominator']\n",
    "\n",
    "tw_arch.drop(['rating_numerator','rating_denominator'], axis =1, inplace = True)"
   ]
  },
  {
   "cell_type": "markdown",
   "metadata": {},
   "source": [
    "#### Test"
   ]
  },
  {
   "cell_type": "code",
   "execution_count": 42,
   "metadata": {},
   "outputs": [
    {
     "data": {
      "text/html": [
       "<div>\n",
       "<style scoped>\n",
       "    .dataframe tbody tr th:only-of-type {\n",
       "        vertical-align: middle;\n",
       "    }\n",
       "\n",
       "    .dataframe tbody tr th {\n",
       "        vertical-align: top;\n",
       "    }\n",
       "\n",
       "    .dataframe thead th {\n",
       "        text-align: right;\n",
       "    }\n",
       "</style>\n",
       "<table border=\"1\" class=\"dataframe\">\n",
       "  <thead>\n",
       "    <tr style=\"text-align: right;\">\n",
       "      <th></th>\n",
       "      <th>tweet_id</th>\n",
       "      <th>timestamp</th>\n",
       "      <th>text</th>\n",
       "      <th>expanded_urls</th>\n",
       "      <th>name</th>\n",
       "      <th>doggo</th>\n",
       "      <th>floofer</th>\n",
       "      <th>pupper</th>\n",
       "      <th>puppo</th>\n",
       "      <th>source_final</th>\n",
       "      <th>retweet_count</th>\n",
       "      <th>fav_count</th>\n",
       "      <th>full_text</th>\n",
       "      <th>ratings</th>\n",
       "    </tr>\n",
       "  </thead>\n",
       "  <tbody>\n",
       "    <tr>\n",
       "      <th>0</th>\n",
       "      <td>892420643555336193</td>\n",
       "      <td>2017-08-01 16:23:56 +0000</td>\n",
       "      <td>This is Phineas. He's a mystical boy. Only eve...</td>\n",
       "      <td>https://twitter.com/dog_rates/status/892420643...</td>\n",
       "      <td>Phineas</td>\n",
       "      <td>None</td>\n",
       "      <td>None</td>\n",
       "      <td>None</td>\n",
       "      <td>None</td>\n",
       "      <td>Twitter for iPhone</td>\n",
       "      <td>8853</td>\n",
       "      <td>39467</td>\n",
       "      <td>This is Phineas. He's a mystical boy. Only eve...</td>\n",
       "      <td>1.3</td>\n",
       "    </tr>\n",
       "    <tr>\n",
       "      <th>1</th>\n",
       "      <td>892177421306343426</td>\n",
       "      <td>2017-08-01 00:17:27 +0000</td>\n",
       "      <td>This is Tilly. She's just checking pup on you....</td>\n",
       "      <td>https://twitter.com/dog_rates/status/892177421...</td>\n",
       "      <td>Tilly</td>\n",
       "      <td>None</td>\n",
       "      <td>None</td>\n",
       "      <td>None</td>\n",
       "      <td>None</td>\n",
       "      <td>Twitter for iPhone</td>\n",
       "      <td>6514</td>\n",
       "      <td>33819</td>\n",
       "      <td>This is Tilly. She's just checking pup on you....</td>\n",
       "      <td>1.3</td>\n",
       "    </tr>\n",
       "    <tr>\n",
       "      <th>2</th>\n",
       "      <td>891815181378084864</td>\n",
       "      <td>2017-07-31 00:18:03 +0000</td>\n",
       "      <td>This is Archie. He is a rare Norwegian Pouncin...</td>\n",
       "      <td>https://twitter.com/dog_rates/status/891815181...</td>\n",
       "      <td>Archie</td>\n",
       "      <td>None</td>\n",
       "      <td>None</td>\n",
       "      <td>None</td>\n",
       "      <td>None</td>\n",
       "      <td>Twitter for iPhone</td>\n",
       "      <td>4328</td>\n",
       "      <td>25461</td>\n",
       "      <td>This is Archie. He is a rare Norwegian Pouncin...</td>\n",
       "      <td>1.2</td>\n",
       "    </tr>\n",
       "    <tr>\n",
       "      <th>3</th>\n",
       "      <td>891689557279858688</td>\n",
       "      <td>2017-07-30 15:58:51 +0000</td>\n",
       "      <td>This is Darla. She commenced a snooze mid meal...</td>\n",
       "      <td>https://twitter.com/dog_rates/status/891689557...</td>\n",
       "      <td>Darla</td>\n",
       "      <td>None</td>\n",
       "      <td>None</td>\n",
       "      <td>None</td>\n",
       "      <td>None</td>\n",
       "      <td>Twitter for iPhone</td>\n",
       "      <td>8964</td>\n",
       "      <td>42908</td>\n",
       "      <td>This is Darla. She commenced a snooze mid meal...</td>\n",
       "      <td>1.3</td>\n",
       "    </tr>\n",
       "    <tr>\n",
       "      <th>4</th>\n",
       "      <td>891327558926688256</td>\n",
       "      <td>2017-07-29 16:00:24 +0000</td>\n",
       "      <td>This is Franklin. He would like you to stop ca...</td>\n",
       "      <td>https://twitter.com/dog_rates/status/891327558...</td>\n",
       "      <td>Franklin</td>\n",
       "      <td>None</td>\n",
       "      <td>None</td>\n",
       "      <td>None</td>\n",
       "      <td>None</td>\n",
       "      <td>Twitter for iPhone</td>\n",
       "      <td>9774</td>\n",
       "      <td>41048</td>\n",
       "      <td>This is Franklin. He would like you to stop ca...</td>\n",
       "      <td>1.2</td>\n",
       "    </tr>\n",
       "  </tbody>\n",
       "</table>\n",
       "</div>"
      ],
      "text/plain": [
       "             tweet_id                  timestamp  \\\n",
       "0  892420643555336193  2017-08-01 16:23:56 +0000   \n",
       "1  892177421306343426  2017-08-01 00:17:27 +0000   \n",
       "2  891815181378084864  2017-07-31 00:18:03 +0000   \n",
       "3  891689557279858688  2017-07-30 15:58:51 +0000   \n",
       "4  891327558926688256  2017-07-29 16:00:24 +0000   \n",
       "\n",
       "                                                text  \\\n",
       "0  This is Phineas. He's a mystical boy. Only eve...   \n",
       "1  This is Tilly. She's just checking pup on you....   \n",
       "2  This is Archie. He is a rare Norwegian Pouncin...   \n",
       "3  This is Darla. She commenced a snooze mid meal...   \n",
       "4  This is Franklin. He would like you to stop ca...   \n",
       "\n",
       "                                       expanded_urls      name doggo floofer  \\\n",
       "0  https://twitter.com/dog_rates/status/892420643...   Phineas  None    None   \n",
       "1  https://twitter.com/dog_rates/status/892177421...     Tilly  None    None   \n",
       "2  https://twitter.com/dog_rates/status/891815181...    Archie  None    None   \n",
       "3  https://twitter.com/dog_rates/status/891689557...     Darla  None    None   \n",
       "4  https://twitter.com/dog_rates/status/891327558...  Franklin  None    None   \n",
       "\n",
       "  pupper puppo        source_final  retweet_count  fav_count  \\\n",
       "0   None  None  Twitter for iPhone           8853      39467   \n",
       "1   None  None  Twitter for iPhone           6514      33819   \n",
       "2   None  None  Twitter for iPhone           4328      25461   \n",
       "3   None  None  Twitter for iPhone           8964      42908   \n",
       "4   None  None  Twitter for iPhone           9774      41048   \n",
       "\n",
       "                                           full_text  ratings  \n",
       "0  This is Phineas. He's a mystical boy. Only eve...      1.3  \n",
       "1  This is Tilly. She's just checking pup on you....      1.3  \n",
       "2  This is Archie. He is a rare Norwegian Pouncin...      1.2  \n",
       "3  This is Darla. She commenced a snooze mid meal...      1.3  \n",
       "4  This is Franklin. He would like you to stop ca...      1.2  "
      ]
     },
     "execution_count": 42,
     "metadata": {},
     "output_type": "execute_result"
    }
   ],
   "source": [
    "tw_arch.head()"
   ]
  },
  {
   "cell_type": "markdown",
   "metadata": {},
   "source": [
    "#### Test 2"
   ]
  },
  {
   "cell_type": "code",
   "execution_count": 43,
   "metadata": {},
   "outputs": [
    {
     "data": {
      "text/plain": [
       "1.200000      466\n",
       "1.000000      429\n",
       "1.100000      409\n",
       "1.300000      281\n",
       "0.900000      154\n",
       "0.800000       94\n",
       "0.700000       50\n",
       "1.400000       37\n",
       "0.500000       34\n",
       "0.600000       32\n",
       "0.300000       19\n",
       "0.400000       15\n",
       "0.200000        9\n",
       "0.100000        3\n",
       "0.000000        2\n",
       "177.600000      1\n",
       "0.636364        1\n",
       "2.600000        1\n",
       "42.000000       1\n",
       "2.700000        1\n",
       "Name: ratings, dtype: int64"
      ]
     },
     "execution_count": 43,
     "metadata": {},
     "output_type": "execute_result"
    }
   ],
   "source": [
    "#Test Again to confirm all columns exist\n",
    "tw_arch.ratings.value_counts()"
   ]
  },
  {
   "cell_type": "markdown",
   "metadata": {},
   "source": [
    "### Store the master Data set in csv files"
   ]
  },
  {
   "cell_type": "code",
   "execution_count": 51,
   "metadata": {},
   "outputs": [],
   "source": [
    "tw_arch.to_csv('twitter_archive_master.csv',index = False)\n",
    "\n",
    "img_pred.to_csv('image_pred.csv', index = False)"
   ]
  },
  {
   "cell_type": "markdown",
   "metadata": {},
   "source": [
    "## Analysis"
   ]
  },
  {
   "cell_type": "code",
   "execution_count": 52,
   "metadata": {},
   "outputs": [],
   "source": [
    "df = pd.read_csv('twitter_archive_master.csv')\n",
    "df1 = pd.read_csv('image_pred.csv')"
   ]
  },
  {
   "cell_type": "code",
   "execution_count": 54,
   "metadata": {},
   "outputs": [
    {
     "data": {
      "text/plain": [
       "Text(0,0.5,'Tweet Count')"
      ]
     },
     "execution_count": 54,
     "metadata": {},
     "output_type": "execute_result"
    },
    {
     "data": {
      "image/png": "[encoded data removed]",
      "text/plain": [
       "<matplotlib.figure.Figure at 0x7f28a1209668>"
      ]
     },
     "metadata": {
      "needs_background": "light"
     },
     "output_type": "display_data"
    }
   ],
   "source": [
    "#Sources of Tweets\n",
    "sb.countplot(data = df, x='source_final')\n",
    "y_ticks = [0, 20, 1000,2000]\n",
    "plt.yticks(y_ticks)\n",
    "plt.xlabel('Sources of the Tweets')\n",
    "plt.ylabel('Tweet Count')\n"
   ]
  },
  {
   "cell_type": "code",
   "execution_count": 55,
   "metadata": {},
   "outputs": [
    {
     "name": "stdout",
     "output_type": "stream",
     "text": [
      "<class 'pandas.core.frame.DataFrame'>\n",
      "Int64Index: 2039 entries, 0 to 2038\n",
      "Data columns (total 14 columns):\n",
      "tweet_id         2039 non-null int64\n",
      "timestamp        2039 non-null object\n",
      "text             2039 non-null object\n",
      "expanded_urls    2038 non-null object\n",
      "name             2039 non-null object\n",
      "doggo            2039 non-null object\n",
      "floofer          2039 non-null object\n",
      "pupper           2039 non-null object\n",
      "puppo            2039 non-null object\n",
      "source_final     2039 non-null object\n",
      "retweet_count    2039 non-null int64\n",
      "fav_count        2039 non-null int64\n",
      "full_text        2039 non-null object\n",
      "ratings          2039 non-null float64\n",
      "dtypes: float64(1), int64(3), object(10)\n",
      "memory usage: 318.9+ KB\n"
     ]
    },
    {
     "data": {
      "text/plain": [
       "Text(0,0.5,'Retweet Count')"
      ]
     },
     "execution_count": 55,
     "metadata": {},
     "output_type": "execute_result"
    },
    {
     "data": {
      "image/png": "[encoded data removed]",
      "text/plain": [
       "<matplotlib.figure.Figure at 0x7f28a12f1be0>"
      ]
     },
     "metadata": {
      "needs_background": "light"
     },
     "output_type": "display_data"
    }
   ],
   "source": [
    "#Check corelation between retweet counts and ratings assigned to the dog pictures\n",
    "tw_arch.info()\n",
    "plt.scatter(data= df, x= 'ratings', y='retweet_count')\n",
    "x_ticks = [0,0.5,1,1.5,2, 2.5,3.0 ]\n",
    "plt.xticks(x_ticks)\n",
    "plt.xlim(0,2.7)\n",
    "plt.xlabel('User Rating for Dogs')\n",
    "plt.ylabel('Retweet Count')"
   ]
  },
  {
   "cell_type": "code",
   "execution_count": 56,
   "metadata": {},
   "outputs": [
    {
     "data": {
      "text/plain": [
       "(golden_retriever             131\n",
       " Labrador_retriever            91\n",
       " Pembroke                      85\n",
       " Chihuahua                     78\n",
       " pug                           54\n",
       " chow                          40\n",
       " Samoyed                       38\n",
       " Pomeranian                    35\n",
       " toy_poodle                    35\n",
       " malamute                      29\n",
       " cocker_spaniel                26\n",
       " Chesapeake_Bay_retriever      22\n",
       " miniature_pinscher            22\n",
       " seat_belt                     21\n",
       " French_bulldog                20\n",
       " German_shepherd               20\n",
       " Siberian_husky                20\n",
       " Maltese_dog                   18\n",
       " teddy                         18\n",
       " Staffordshire_bullterrier     18\n",
       " Shetland_sheepdog             18\n",
       " Rottweiler                    17\n",
       " beagle                        17\n",
       " Italian_greyhound             16\n",
       " Shih-Tzu                      16\n",
       " Lakeland_terrier              16\n",
       " Cardigan                      15\n",
       " kuvasz                        15\n",
       " Eskimo_dog                    14\n",
       " web_site                      14\n",
       "                             ... \n",
       " mud_turtle                     1\n",
       " cowboy_boot                    1\n",
       " water_bottle                   1\n",
       " silky_terrier                  1\n",
       " rotisserie                     1\n",
       " gondola                        1\n",
       " bonnet                         1\n",
       " sunglasses                     1\n",
       " hotdog                         1\n",
       " book_jacket                    1\n",
       " nail                           1\n",
       " cuirass                        1\n",
       " crane                          1\n",
       " otter                          1\n",
       " maillot                        1\n",
       " lorikeet                       1\n",
       " microphone                     1\n",
       " damselfly                      1\n",
       " binoculars                     1\n",
       " American_black_bear            1\n",
       " swab                           1\n",
       " water_buffalo                  1\n",
       " wild_boar                      1\n",
       " alp                            1\n",
       " hen                            1\n",
       " giant_panda                    1\n",
       " scorpion                       1\n",
       " fountain                       1\n",
       " rapeseed                       1\n",
       " upright                        1\n",
       " Name: p1, Length: 367, dtype: int64, Labrador_retriever                93\n",
       " golden_retriever                  80\n",
       " Cardigan                          69\n",
       " Chihuahua                         42\n",
       " French_bulldog                    38\n",
       " Chesapeake_Bay_retriever          38\n",
       " Pomeranian                        37\n",
       " toy_poodle                        35\n",
       " cocker_spaniel                    31\n",
       " miniature_poodle                  30\n",
       " Siberian_husky                    29\n",
       " beagle                            28\n",
       " Eskimo_dog                        27\n",
       " collie                            25\n",
       " Pembroke                          24\n",
       " kuvasz                            23\n",
       " Italian_greyhound                 21\n",
       " malinois                          20\n",
       " chow                              20\n",
       " miniature_pinscher                19\n",
       " toy_terrier                       19\n",
       " Pekinese                          18\n",
       " American_Staffordshire_terrier    18\n",
       " Norwegian_elkhound                17\n",
       " Staffordshire_bullterrier         17\n",
       " pug                               16\n",
       " Boston_bull                       16\n",
       " Irish_terrier                     16\n",
       " Shih-Tzu                          16\n",
       " Samoyed                           16\n",
       "                                   ..\n",
       " cowboy_boot                        1\n",
       " wood_rabbit                        1\n",
       " spatula                            1\n",
       " indri                              1\n",
       " ice_lolly                          1\n",
       " water_buffalo                      1\n",
       " crib                               1\n",
       " ashcan                             1\n",
       " giant_panda                        1\n",
       " rain_barrel                        1\n",
       " bow                                1\n",
       " standard_schnauzer                 1\n",
       " hair_slide                         1\n",
       " canoe                              1\n",
       " volcano                            1\n",
       " cradle                             1\n",
       " pelican                            1\n",
       " bathing_cap                        1\n",
       " barbershop                         1\n",
       " chimpanzee                         1\n",
       " European_gallinule                 1\n",
       " polecat                            1\n",
       " laptop                             1\n",
       " platypus                           1\n",
       " racket                             1\n",
       " toucan                             1\n",
       " apron                              1\n",
       " Japanese_spaniel                   1\n",
       " breastplate                        1\n",
       " sea_urchin                         1\n",
       " Name: p2, Length: 398, dtype: int64, Labrador_retriever                71\n",
       " Chihuahua                         57\n",
       " golden_retriever                  46\n",
       " Eskimo_dog                        36\n",
       " kelpie                            33\n",
       " kuvasz                            30\n",
       " cocker_spaniel                    29\n",
       " chow                              29\n",
       " beagle                            28\n",
       " toy_poodle                        27\n",
       " Staffordshire_bullterrier         27\n",
       " Pekinese                          27\n",
       " Pomeranian                        26\n",
       " Great_Pyrenees                    25\n",
       " French_bulldog                    25\n",
       " Pembroke                          24\n",
       " malamute                          23\n",
       " Cardigan                          23\n",
       " American_Staffordshire_terrier    22\n",
       " Chesapeake_Bay_retriever          21\n",
       " Siberian_husky                    19\n",
       " bull_mastiff                      18\n",
       " Boston_bull                       17\n",
       " toy_terrier                       17\n",
       " Shetland_sheepdog                 17\n",
       " pug                               17\n",
       " Lakeland_terrier                  16\n",
       " basenji                           16\n",
       " boxer                             15\n",
       " standard_poodle                   15\n",
       "                                   ..\n",
       " snorkel                            1\n",
       " snail                              1\n",
       " mosquito_net                       1\n",
       " gorilla                            1\n",
       " green_lizard                       1\n",
       " jaguar                             1\n",
       " cuirass                            1\n",
       " envelope                           1\n",
       " grand_piano                        1\n",
       " cup                                1\n",
       " paintbrush                         1\n",
       " stinkhorn                          1\n",
       " pickup                             1\n",
       " neck_brace                         1\n",
       " guillotine                         1\n",
       " Kerry_blue_terrier                 1\n",
       " hand_blower                        1\n",
       " swimming_trunks                    1\n",
       " sunglass                           1\n",
       " bow                                1\n",
       " desktop_computer                   1\n",
       " switch                             1\n",
       " dhole                              1\n",
       " toyshop                            1\n",
       " American_black_bear                1\n",
       " spatula                            1\n",
       " Sussex_spaniel                     1\n",
       " rifle                              1\n",
       " Windsor_tie                        1\n",
       " cowboy_boot                        1\n",
       " Name: p3, Length: 394, dtype: int64)"
      ]
     },
     "execution_count": 56,
     "metadata": {},
     "output_type": "execute_result"
    }
   ],
   "source": [
    "#Check the best breeds from the image predictions file\n",
    "df1.head()\n",
    "\n",
    "df1.p1.value_counts(),img_pred.p2.value_counts(),img_pred.p3.value_counts()"
   ]
  }
 ],
 "metadata": {
  "kernelspec": {
   "display_name": "Python 3",
   "language": "python",
   "name": "python3"
  },
  "language_info": {
   "codemirror_mode": {
    "name": "ipython",
    "version": 3
   },
   "file_extension": ".py",
   "mimetype": "text/x-python",
   "name": "python",
   "nbconvert_exporter": "python",
   "pygments_lexer": "ipython3",
   "version": "3.6.3"
  }
 },
 "nbformat": 4,
 "nbformat_minor": 2
}
